{
  "nbformat": 4,
  "nbformat_minor": 0,
  "metadata": {
    "colab": {
      "provenance": []
    },
    "kernelspec": {
      "name": "python3",
      "display_name": "Python 3"
    },
    "language_info": {
      "name": "python"
    }
  },
  "cells": [
    {
      "cell_type": "markdown",
      "source": [
        "# Nível do Rio Ládario\n",
        "O objetivo desta análise foi identificar os atributos que mais influenciam o nível do Rio Ládario e desenvolver um modelo de predição para auxiliar no monitoramento e tomada de decisões.\n",
        "\n",
        "# Contexto\n",
        "A previsão do nível do Rio Ládario é crucial para a gestão de recursos hídricos e prevenção de desastres, especialmente porque este rio desempenha um papel vital na região de Corumbá, localizada no Pantanal do Mato Grosso do Sul. O rio é fundamental tanto para o escoamento de matéria-prima quanto para o abastecimento de água das cidades próximas. Além disso, ele impacta diretamente a economia local, já que o transporte fluvial é essencial para a logística da região.\n",
        "\n",
        "Para entender as variáveis que influenciam o nível do rio, foram utilizados dados climáticos e ambientais, como Temperatura Média, Umidade Máxima, e Precipitação Máxima, entre outros. A análise desses fatores visa fornecer insights para uma gestão mais eficiente do rio e preparar a região para possíveis variações críticas no nível da água.\n",
        "\n",
        "# Análise de Correlação\n",
        "A análise de correlação entre as variáveis revelou que:\n",
        "\n",
        "- Temperatura Média tem uma correlação negativa moderada (-0.45) com o nível do rio, indicando que aumentos na temperatura podem estar relacionados a uma diminuição no nível.\n",
        "- Umidade Máxima e Precipitação Máxima mostraram correlações mais fracas (-0.20 e -0.16, respectivamente), sugerindo que esses fatores, isoladamente, têm uma influência menos direta sobre o nível do rio."
      ],
      "metadata": {
        "id": "cOn1wE3n4xht"
      }
    },
    {
      "cell_type": "markdown",
      "source": [
        "# Realizando imports"
      ],
      "metadata": {
        "id": "5oAxxpMpzF7U"
      }
    },
    {
      "cell_type": "code",
      "execution_count": 3,
      "metadata": {
        "id": "WFAf0-C82Dm9"
      },
      "outputs": [],
      "source": [
        "import joblib\n",
        "from sklearn.pipeline import Pipeline\n",
        "from sklearn.metrics import mean_squared_error, mean_absolute_error, r2_score\n",
        "from sklearn.svm import SVR\n",
        "from sklearn.tree import DecisionTreeRegressor\n",
        "from sklearn.neighbors import KNeighborsRegressor\n",
        "from sklearn.linear_model import LinearRegression, Ridge, Lasso\n",
        "from sklearn.preprocessing import StandardScaler\n",
        "from sklearn.model_selection import cross_val_score, KFold, train_test_split\n",
        "import pandas as pd\n",
        "import numpy as np\n",
        "import matplotlib.pyplot as plt\n",
        "import seaborn as sns\n",
        "import warnings\n",
        "\n",
        "warnings.filterwarnings(\"ignore\")"
      ]
    },
    {
      "cell_type": "markdown",
      "source": [
        "# Carregando o Dataset e mostrando as primeiras linhas"
      ],
      "metadata": {
        "id": "gicI4AouzRC2"
      }
    },
    {
      "cell_type": "code",
      "source": [
        "# Load data from the CSV file\n",
        "url = \"https://raw.githubusercontent.com/senhorbento/MVP-Intelligent-Systems/refs/heads/main/databases/2023-ByDay.csv\"\n",
        "df = pd.read_csv(url, delimiter=';')\n",
        "\n",
        "df.head()"
      ],
      "metadata": {
        "colab": {
          "base_uri": "https://localhost:8080/",
          "height": 206
        },
        "id": "1qEcpYIDzO44",
        "outputId": "096d7b41-016e-4fba-c895-38c4dae5c134"
      },
      "execution_count": 4,
      "outputs": [
        {
          "output_type": "execute_result",
          "data": {
            "text/plain": [
              "         Data  Avg_Temperature  Max_Humidity  Max_Preciptation  Level\n",
              "0  01/01/2023            29.41          88.5               0.0   0.32\n",
              "1  02/01/2023            29.64          79.0               3.8   0.32\n",
              "2  03/01/2023            25.09          91.5               5.4   0.38\n",
              "3  04/01/2023            24.59          88.5               2.8   0.39\n",
              "4  05/01/2023            26.51          91.0               0.0   0.42"
            ],
            "text/html": [
              "\n",
              "  <div id=\"df-7a8370e5-3f41-4e17-9a69-fd1a1f743a30\" class=\"colab-df-container\">\n",
              "    <div>\n",
              "<style scoped>\n",
              "    .dataframe tbody tr th:only-of-type {\n",
              "        vertical-align: middle;\n",
              "    }\n",
              "\n",
              "    .dataframe tbody tr th {\n",
              "        vertical-align: top;\n",
              "    }\n",
              "\n",
              "    .dataframe thead th {\n",
              "        text-align: right;\n",
              "    }\n",
              "</style>\n",
              "<table border=\"1\" class=\"dataframe\">\n",
              "  <thead>\n",
              "    <tr style=\"text-align: right;\">\n",
              "      <th></th>\n",
              "      <th>Data</th>\n",
              "      <th>Avg_Temperature</th>\n",
              "      <th>Max_Humidity</th>\n",
              "      <th>Max_Preciptation</th>\n",
              "      <th>Level</th>\n",
              "    </tr>\n",
              "  </thead>\n",
              "  <tbody>\n",
              "    <tr>\n",
              "      <th>0</th>\n",
              "      <td>01/01/2023</td>\n",
              "      <td>29.41</td>\n",
              "      <td>88.5</td>\n",
              "      <td>0.0</td>\n",
              "      <td>0.32</td>\n",
              "    </tr>\n",
              "    <tr>\n",
              "      <th>1</th>\n",
              "      <td>02/01/2023</td>\n",
              "      <td>29.64</td>\n",
              "      <td>79.0</td>\n",
              "      <td>3.8</td>\n",
              "      <td>0.32</td>\n",
              "    </tr>\n",
              "    <tr>\n",
              "      <th>2</th>\n",
              "      <td>03/01/2023</td>\n",
              "      <td>25.09</td>\n",
              "      <td>91.5</td>\n",
              "      <td>5.4</td>\n",
              "      <td>0.38</td>\n",
              "    </tr>\n",
              "    <tr>\n",
              "      <th>3</th>\n",
              "      <td>04/01/2023</td>\n",
              "      <td>24.59</td>\n",
              "      <td>88.5</td>\n",
              "      <td>2.8</td>\n",
              "      <td>0.39</td>\n",
              "    </tr>\n",
              "    <tr>\n",
              "      <th>4</th>\n",
              "      <td>05/01/2023</td>\n",
              "      <td>26.51</td>\n",
              "      <td>91.0</td>\n",
              "      <td>0.0</td>\n",
              "      <td>0.42</td>\n",
              "    </tr>\n",
              "  </tbody>\n",
              "</table>\n",
              "</div>\n",
              "    <div class=\"colab-df-buttons\">\n",
              "\n",
              "  <div class=\"colab-df-container\">\n",
              "    <button class=\"colab-df-convert\" onclick=\"convertToInteractive('df-7a8370e5-3f41-4e17-9a69-fd1a1f743a30')\"\n",
              "            title=\"Convert this dataframe to an interactive table.\"\n",
              "            style=\"display:none;\">\n",
              "\n",
              "  <svg xmlns=\"http://www.w3.org/2000/svg\" height=\"24px\" viewBox=\"0 -960 960 960\">\n",
              "    <path d=\"M120-120v-720h720v720H120Zm60-500h600v-160H180v160Zm220 220h160v-160H400v160Zm0 220h160v-160H400v160ZM180-400h160v-160H180v160Zm440 0h160v-160H620v160ZM180-180h160v-160H180v160Zm440 0h160v-160H620v160Z\"/>\n",
              "  </svg>\n",
              "    </button>\n",
              "\n",
              "  <style>\n",
              "    .colab-df-container {\n",
              "      display:flex;\n",
              "      gap: 12px;\n",
              "    }\n",
              "\n",
              "    .colab-df-convert {\n",
              "      background-color: #E8F0FE;\n",
              "      border: none;\n",
              "      border-radius: 50%;\n",
              "      cursor: pointer;\n",
              "      display: none;\n",
              "      fill: #1967D2;\n",
              "      height: 32px;\n",
              "      padding: 0 0 0 0;\n",
              "      width: 32px;\n",
              "    }\n",
              "\n",
              "    .colab-df-convert:hover {\n",
              "      background-color: #E2EBFA;\n",
              "      box-shadow: 0px 1px 2px rgba(60, 64, 67, 0.3), 0px 1px 3px 1px rgba(60, 64, 67, 0.15);\n",
              "      fill: #174EA6;\n",
              "    }\n",
              "\n",
              "    .colab-df-buttons div {\n",
              "      margin-bottom: 4px;\n",
              "    }\n",
              "\n",
              "    [theme=dark] .colab-df-convert {\n",
              "      background-color: #3B4455;\n",
              "      fill: #D2E3FC;\n",
              "    }\n",
              "\n",
              "    [theme=dark] .colab-df-convert:hover {\n",
              "      background-color: #434B5C;\n",
              "      box-shadow: 0px 1px 3px 1px rgba(0, 0, 0, 0.15);\n",
              "      filter: drop-shadow(0px 1px 2px rgba(0, 0, 0, 0.3));\n",
              "      fill: #FFFFFF;\n",
              "    }\n",
              "  </style>\n",
              "\n",
              "    <script>\n",
              "      const buttonEl =\n",
              "        document.querySelector('#df-7a8370e5-3f41-4e17-9a69-fd1a1f743a30 button.colab-df-convert');\n",
              "      buttonEl.style.display =\n",
              "        google.colab.kernel.accessAllowed ? 'block' : 'none';\n",
              "\n",
              "      async function convertToInteractive(key) {\n",
              "        const element = document.querySelector('#df-7a8370e5-3f41-4e17-9a69-fd1a1f743a30');\n",
              "        const dataTable =\n",
              "          await google.colab.kernel.invokeFunction('convertToInteractive',\n",
              "                                                    [key], {});\n",
              "        if (!dataTable) return;\n",
              "\n",
              "        const docLinkHtml = 'Like what you see? Visit the ' +\n",
              "          '<a target=\"_blank\" href=https://colab.research.google.com/notebooks/data_table.ipynb>data table notebook</a>'\n",
              "          + ' to learn more about interactive tables.';\n",
              "        element.innerHTML = '';\n",
              "        dataTable['output_type'] = 'display_data';\n",
              "        await google.colab.output.renderOutput(dataTable, element);\n",
              "        const docLink = document.createElement('div');\n",
              "        docLink.innerHTML = docLinkHtml;\n",
              "        element.appendChild(docLink);\n",
              "      }\n",
              "    </script>\n",
              "  </div>\n",
              "\n",
              "\n",
              "<div id=\"df-27ba56c5-91a7-4d6a-98fd-7118aa2827d5\">\n",
              "  <button class=\"colab-df-quickchart\" onclick=\"quickchart('df-27ba56c5-91a7-4d6a-98fd-7118aa2827d5')\"\n",
              "            title=\"Suggest charts\"\n",
              "            style=\"display:none;\">\n",
              "\n",
              "<svg xmlns=\"http://www.w3.org/2000/svg\" height=\"24px\"viewBox=\"0 0 24 24\"\n",
              "     width=\"24px\">\n",
              "    <g>\n",
              "        <path d=\"M19 3H5c-1.1 0-2 .9-2 2v14c0 1.1.9 2 2 2h14c1.1 0 2-.9 2-2V5c0-1.1-.9-2-2-2zM9 17H7v-7h2v7zm4 0h-2V7h2v10zm4 0h-2v-4h2v4z\"/>\n",
              "    </g>\n",
              "</svg>\n",
              "  </button>\n",
              "\n",
              "<style>\n",
              "  .colab-df-quickchart {\n",
              "      --bg-color: #E8F0FE;\n",
              "      --fill-color: #1967D2;\n",
              "      --hover-bg-color: #E2EBFA;\n",
              "      --hover-fill-color: #174EA6;\n",
              "      --disabled-fill-color: #AAA;\n",
              "      --disabled-bg-color: #DDD;\n",
              "  }\n",
              "\n",
              "  [theme=dark] .colab-df-quickchart {\n",
              "      --bg-color: #3B4455;\n",
              "      --fill-color: #D2E3FC;\n",
              "      --hover-bg-color: #434B5C;\n",
              "      --hover-fill-color: #FFFFFF;\n",
              "      --disabled-bg-color: #3B4455;\n",
              "      --disabled-fill-color: #666;\n",
              "  }\n",
              "\n",
              "  .colab-df-quickchart {\n",
              "    background-color: var(--bg-color);\n",
              "    border: none;\n",
              "    border-radius: 50%;\n",
              "    cursor: pointer;\n",
              "    display: none;\n",
              "    fill: var(--fill-color);\n",
              "    height: 32px;\n",
              "    padding: 0;\n",
              "    width: 32px;\n",
              "  }\n",
              "\n",
              "  .colab-df-quickchart:hover {\n",
              "    background-color: var(--hover-bg-color);\n",
              "    box-shadow: 0 1px 2px rgba(60, 64, 67, 0.3), 0 1px 3px 1px rgba(60, 64, 67, 0.15);\n",
              "    fill: var(--button-hover-fill-color);\n",
              "  }\n",
              "\n",
              "  .colab-df-quickchart-complete:disabled,\n",
              "  .colab-df-quickchart-complete:disabled:hover {\n",
              "    background-color: var(--disabled-bg-color);\n",
              "    fill: var(--disabled-fill-color);\n",
              "    box-shadow: none;\n",
              "  }\n",
              "\n",
              "  .colab-df-spinner {\n",
              "    border: 2px solid var(--fill-color);\n",
              "    border-color: transparent;\n",
              "    border-bottom-color: var(--fill-color);\n",
              "    animation:\n",
              "      spin 1s steps(1) infinite;\n",
              "  }\n",
              "\n",
              "  @keyframes spin {\n",
              "    0% {\n",
              "      border-color: transparent;\n",
              "      border-bottom-color: var(--fill-color);\n",
              "      border-left-color: var(--fill-color);\n",
              "    }\n",
              "    20% {\n",
              "      border-color: transparent;\n",
              "      border-left-color: var(--fill-color);\n",
              "      border-top-color: var(--fill-color);\n",
              "    }\n",
              "    30% {\n",
              "      border-color: transparent;\n",
              "      border-left-color: var(--fill-color);\n",
              "      border-top-color: var(--fill-color);\n",
              "      border-right-color: var(--fill-color);\n",
              "    }\n",
              "    40% {\n",
              "      border-color: transparent;\n",
              "      border-right-color: var(--fill-color);\n",
              "      border-top-color: var(--fill-color);\n",
              "    }\n",
              "    60% {\n",
              "      border-color: transparent;\n",
              "      border-right-color: var(--fill-color);\n",
              "    }\n",
              "    80% {\n",
              "      border-color: transparent;\n",
              "      border-right-color: var(--fill-color);\n",
              "      border-bottom-color: var(--fill-color);\n",
              "    }\n",
              "    90% {\n",
              "      border-color: transparent;\n",
              "      border-bottom-color: var(--fill-color);\n",
              "    }\n",
              "  }\n",
              "</style>\n",
              "\n",
              "  <script>\n",
              "    async function quickchart(key) {\n",
              "      const quickchartButtonEl =\n",
              "        document.querySelector('#' + key + ' button');\n",
              "      quickchartButtonEl.disabled = true;  // To prevent multiple clicks.\n",
              "      quickchartButtonEl.classList.add('colab-df-spinner');\n",
              "      try {\n",
              "        const charts = await google.colab.kernel.invokeFunction(\n",
              "            'suggestCharts', [key], {});\n",
              "      } catch (error) {\n",
              "        console.error('Error during call to suggestCharts:', error);\n",
              "      }\n",
              "      quickchartButtonEl.classList.remove('colab-df-spinner');\n",
              "      quickchartButtonEl.classList.add('colab-df-quickchart-complete');\n",
              "    }\n",
              "    (() => {\n",
              "      let quickchartButtonEl =\n",
              "        document.querySelector('#df-27ba56c5-91a7-4d6a-98fd-7118aa2827d5 button');\n",
              "      quickchartButtonEl.style.display =\n",
              "        google.colab.kernel.accessAllowed ? 'block' : 'none';\n",
              "    })();\n",
              "  </script>\n",
              "</div>\n",
              "\n",
              "    </div>\n",
              "  </div>\n"
            ],
            "application/vnd.google.colaboratory.intrinsic+json": {
              "type": "dataframe",
              "variable_name": "df",
              "summary": "{\n  \"name\": \"df\",\n  \"rows\": 365,\n  \"fields\": [\n    {\n      \"column\": \"Data\",\n      \"properties\": {\n        \"dtype\": \"string\",\n        \"num_unique_values\": 365,\n        \"samples\": [\n          \"13/07/2023\",\n          \"03/02/2023\",\n          \"16/01/2023\"\n        ],\n        \"semantic_type\": \"\",\n        \"description\": \"\"\n      }\n    },\n    {\n      \"column\": \"Avg_Temperature\",\n      \"properties\": {\n        \"dtype\": \"number\",\n        \"std\": 3.8033731843466128,\n        \"min\": 9.85,\n        \"max\": 34.5,\n        \"num_unique_values\": 308,\n        \"samples\": [\n          30.62,\n          28.46,\n          27.86\n        ],\n        \"semantic_type\": \"\",\n        \"description\": \"\"\n      }\n    },\n    {\n      \"column\": \"Max_Humidity\",\n      \"properties\": {\n        \"dtype\": \"number\",\n        \"std\": 10.87605647953976,\n        \"min\": 48.5,\n        \"max\": 92.0,\n        \"num_unique_values\": 76,\n        \"samples\": [\n          56.0,\n          73.5,\n          90.5\n        ],\n        \"semantic_type\": \"\",\n        \"description\": \"\"\n      }\n    },\n    {\n      \"column\": \"Max_Preciptation\",\n      \"properties\": {\n        \"dtype\": \"number\",\n        \"std\": 6.248784822406386,\n        \"min\": 0.0,\n        \"max\": 86.6,\n        \"num_unique_values\": 51,\n        \"samples\": [\n          10.0,\n          7.2,\n          3.4\n        ],\n        \"semantic_type\": \"\",\n        \"description\": \"\"\n      }\n    },\n    {\n      \"column\": \"Level\",\n      \"properties\": {\n        \"dtype\": \"number\",\n        \"std\": 1.3246369166724863,\n        \"min\": 0.31,\n        \"max\": 4.24,\n        \"num_unique_values\": 247,\n        \"samples\": [\n          1.41,\n          0.58,\n          3.93\n        ],\n        \"semantic_type\": \"\",\n        \"description\": \"\"\n      }\n    }\n  ]\n}"
            }
          },
          "metadata": {},
          "execution_count": 4
        }
      ]
    },
    {
      "cell_type": "markdown",
      "source": [
        "# Selecionando as colunas numericas, criando a matriz de correlação e mostrando-a na tela."
      ],
      "metadata": {
        "id": "K8n0eftOzie2"
      }
    },
    {
      "cell_type": "code",
      "source": [
        "# Select only numeric columns for correlation\n",
        "numeric_df = df.select_dtypes(include=[np.number])\n",
        "\n",
        "# Calculate the correlation matrix\n",
        "correlation_matrix = numeric_df.corr()\n",
        "\n",
        "# Visualize the correlation matrix with a heatmap\n",
        "plt.figure(figsize=(10, 6))\n",
        "sns.heatmap(correlation_matrix, annot=True, fmt=\".2f\", cmap='coolwarm')\n",
        "plt.title('Correlation Matrix Heatmap')\n",
        "plt.show()\n"
      ],
      "metadata": {
        "colab": {
          "base_uri": "https://localhost:8080/",
          "height": 545
        },
        "id": "WoLRQSbCzf_K",
        "outputId": "0a6ff6bc-f91e-4895-9e22-9da95a9c1bd6"
      },
      "execution_count": 5,
      "outputs": [
        {
          "output_type": "display_data",
          "data": {
            "text/plain": [
              "<Figure size 1000x600 with 2 Axes>"
            ],
            "image/png": "[encoded data removed]"
          },
          "metadata": {}
        }
      ]
    },
    {
      "cell_type": "markdown",
      "source": [
        "Através da matriz de correlação foi possível observar os seguintes pontos:\n",
        "\n",
        "01. Avg_Temperature (Temperatura Média):\n",
        "  - Tem uma correlação negativa moderada com o Level (Nível do Rio) (-0.45), sugerindo que, à medida que a temperatura aumenta, o nível do rio tende a diminuir.\n",
        "  - Também apresenta correlação negativa com Max_Humidity (-0.45), ou seja, quando a temperatura sobe, a umidade tende a cair.\n",
        "00. Max_Humidity (Máxima Umidade):\n",
        "  - A correlação com o Level é ligeiramente negativa (-0.20), indicando uma leve tendência de o nível do rio diminuir com o aumento da umidade.\n",
        "  - Tem uma correlação positiva moderada com Max_Precipitation (0.27), o que é esperado, já que maior umidade pode estar associada a mais precipitação.\n",
        "00. Max_Precipitation (Máxima Precipitação):\n",
        "  - Mostra uma correlação negativa leve com o Level (-0.16), o que pode ser contraintuitivo, mas pode significar que a precipitação máxima isolada não está diretamente ligada ao aumento do nível do rio, ou talvez os efeitos não sejam imediatos.\n",
        "  - Correlaciona-se levemente com outras variáveis como Avg_Temperature (-0.11) e Max_Humidity (0.27).\n",
        "00. Level (Nível do Rio):\n",
        "Não possui correlações fortes com nenhuma das outras variáveis no gráfico, sendo a maior correlação negativa com Avg_Temperature (-0.45). Isso pode indicar que a temperatura é o fator mais influente nas variações de nível do rio entre as variáveis observadas."
      ],
      "metadata": {
        "id": "LGmnw1F81lI4"
      }
    },
    {
      "cell_type": "markdown",
      "source": [
        "# Separação em conjunto de treino e conjunto de teste com holdout"
      ],
      "metadata": {
        "id": "TpCMoxiqz6T8"
      }
    },
    {
      "cell_type": "code",
      "source": [
        "# Prepare the data\n",
        "X = df[['Avg_Temperature', 'Max_Humidity', 'Max_Preciptation']]\n",
        "y = df['Level']\n",
        "\n",
        "X_train, X_test, y_train, y_test = train_test_split(X, y, test_size=0.20, random_state=7)\n",
        "\n",
        "# Creating folds for cross-validation\n",
        "num_particoes = 10  # number of folds for cross-validation\n",
        "kfold = KFold(n_splits=num_particoes, shuffle=True, random_state=7)\n"
      ],
      "metadata": {
        "id": "3ijQbXydzyeP"
      },
      "execution_count": 8,
      "outputs": []
    },
    {
      "cell_type": "markdown",
      "source": [
        "# Criação e avaliação de modelos"
      ],
      "metadata": {
        "id": "ONy22iS60HAe"
      }
    },
    {
      "cell_type": "code",
      "source": [
        "# Setting a global seed for reproducibility\n",
        "np.random.seed(7)\n",
        "\n",
        "# Lists to store models, results, and model names\n",
        "models = []\n",
        "results = []\n",
        "names = []\n",
        "\n",
        "# Preparing models\n",
        "models.append(('KNN', KNeighborsRegressor()))\n",
        "models.append(('CART', DecisionTreeRegressor()))\n",
        "models.append(('LR', LinearRegression()))\n",
        "models.append(('Ridge', Ridge()))\n",
        "models.append(('Lasso', Lasso()))\n",
        "models.append(('SVM', SVR()))\n",
        "\n",
        "# Evaluating each model\n",
        "for name, model in models:\n",
        "    # Create a pipeline with standardization\n",
        "    pipeline = Pipeline([('scaler', StandardScaler()), ('regressor', model)])\n",
        "\n",
        "    cv_results = cross_val_score(pipeline, X_train, y_train, cv=kfold, scoring='neg_mean_squared_error')\n",
        "    results.append(cv_results)\n",
        "    names.append(name)\n",
        "\n",
        "    # Print MSE, standard deviation of MSE, and RMSE of the 10 cross-validation results\n",
        "    msg = \"%s: MSE %0.2f (%0.2f) - RMSE %0.2f\" % (name, abs(cv_results.mean()), cv_results.std(), np.sqrt(abs(cv_results.mean())))\n",
        "    print(msg)\n",
        "\n",
        "# Boxplot comparing the models\n",
        "fig = plt.figure()\n",
        "fig.suptitle('Comparação do MSE dos Modelos')\n",
        "ax = fig.add_subplot(111)\n",
        "plt.boxplot(results)\n",
        "ax.set_xticklabels(names)\n",
        "plt.show()\n",
        "\n"
      ],
      "metadata": {
        "colab": {
          "base_uri": "https://localhost:8080/",
          "height": 582
        },
        "id": "nSQsdeq50Bxd",
        "outputId": "78f82cd7-7839-48f8-e057-b7373c272e8a"
      },
      "execution_count": 9,
      "outputs": [
        {
          "output_type": "stream",
          "name": "stdout",
          "text": [
            "KNN: MSE 1.06 (0.22) - RMSE 1.03\n",
            "CART: MSE 1.77 (0.36) - RMSE 1.33\n",
            "LR: MSE 1.04 (0.16) - RMSE 1.02\n",
            "Ridge: MSE 1.04 (0.16) - RMSE 1.02\n",
            "Lasso: MSE 1.71 (0.15) - RMSE 1.31\n",
            "SVM: MSE 0.91 (0.20) - RMSE 0.95\n"
          ]
        },
        {
          "output_type": "display_data",
          "data": {
            "text/plain": [
              "<Figure size 640x480 with 1 Axes>"
            ],
            "image/png": "[encoded data removed]"
          },
          "metadata": {}
        }
      ]
    },
    {
      "cell_type": "markdown",
      "source": [
        "01. KNN (K-Nearest Neighbors):\n",
        "\n",
        "  - Apresenta uma média mais alta (em torno de -1.0), indicando um MSE menor que os outros modelos.\n",
        "  - Tem poucos outliers (valores fora do padrão), sugerindo um comportamento mais estável.\n",
        "\n",
        "00. CART (Árvores de Decisão):\n",
        "  - Exibe a maior variabilidade de MSE, com uma faixa ampla entre aproximadamente -2.5 e -1.0.\n",
        "  - Há outliers visíveis tanto para MSE altos quanto baixos, o que pode indicar que o modelo é mais instável ou sensível aos dados.\n",
        "  - A mediana do MSE é mais baixa, sugerindo que, em média, tem desempenho inferior a outros modelos.\n",
        "\n",
        "00. LR (Regressão Linear) e Ridge:\n",
        "  - Ambos os modelos têm distribuições de erro muito semelhantes, com uma faixa entre -1.75 e -1.0.\n",
        "  - A mediana do MSE está aproximadamente no centro da distribuição, indicando um desempenho consistente, embora a faixa de MSE seja mais ampla do que em alguns outros modelos, como o KNN.\n",
        "\n",
        "00. Lasso:\n",
        "  - Tem uma distribuição compacta com uma mediana relativamente baixa (-1.75), indicando um MSE melhor que o de CART, mas pior que outros modelos.\n",
        "  - A faixa de variabilidade é a menor entre os modelos, sugerindo que o Lasso é mais consistente.\n",
        "  \n",
        "00. SVM (Máquinas de Vetores de Suporte):\n",
        "  - Possui uma variabilidade de MSE relativamente alta, com uma mediana perto de -1.0, mas apresenta outliers negativos que indicam uma performance menos estável.\n",
        "  - O modelo tem uma faixa de erros ampla, o que pode significar que sua performance depende muito dos dados ou parâmetros escolhidos."
      ],
      "metadata": {
        "id": "gK6WmLMz2eet"
      }
    },
    {
      "cell_type": "markdown",
      "source": [
        "# Selecionando o melhor modelo de dados, treinando ele com todos os dados e validando o resultado final"
      ],
      "metadata": {
        "id": "uWX10cGA0SXE"
      }
    },
    {
      "cell_type": "code",
      "source": [
        "# Selecting the best model (the one with the lowest MSE)\n",
        "best_index = np.argmin([abs(cv.mean()) for cv in results])\n",
        "best_model_name = names[best_index]\n",
        "best_model = models[best_index][1]\n",
        "\n",
        "# Training the best model with all training data\n",
        "best_pipeline = Pipeline([('scaler', StandardScaler()), ('regressor', best_model)])\n",
        "best_pipeline.fit(X_train, y_train)\n",
        "\n",
        "# Evaluation of the final model on the test data\n",
        "y_pred = best_pipeline.predict(X_test)\n",
        "print(f\"Avaliação do modelo {best_model_name}:\")\n",
        "print(f\"RMSE: {np.sqrt(mean_squared_error(y_test, y_pred))}\")\n",
        "print(f\"MAE: {mean_absolute_error(y_test, y_pred)}\")\n",
        "print(f\"R²: {r2_score(y_test, y_pred)}\")"
      ],
      "metadata": {
        "colab": {
          "base_uri": "https://localhost:8080/"
        },
        "id": "-PWUwo2I0McP",
        "outputId": "19158179-bdb6-4604-929c-1be674b9e7cc"
      },
      "execution_count": 7,
      "outputs": [
        {
          "output_type": "stream",
          "name": "stdout",
          "text": [
            "Avaliação do modelo SVM:\n",
            "RMSE: 0.9655762999090824\n",
            "MAE: 0.75850752138701\n",
            "R²: 0.5232024576923806\n"
          ]
        }
      ]
    }
  ]
}